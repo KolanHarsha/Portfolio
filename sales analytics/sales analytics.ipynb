{
 "cells": [
  {
   "cell_type": "code",
   "execution_count": 1,
   "id": "3c3631a8",
   "metadata": {},
   "outputs": [],
   "source": [
    "import pandas as pd\n",
    "import time\n",
    "from datetime import datetime, timedelta"
   ]
  },
  {
   "cell_type": "code",
   "execution_count": 2,
   "id": "b3b15983",
   "metadata": {},
   "outputs": [],
   "source": [
    "df=pd.read_excel(\"data_dump.xlsx\")"
   ]
  },
  {
   "cell_type": "code",
   "execution_count": 3,
   "id": "c3d702d6",
   "metadata": {},
   "outputs": [
    {
     "data": {
      "text/html": [
       "<div>\n",
       "<style scoped>\n",
       "    .dataframe tbody tr th:only-of-type {\n",
       "        vertical-align: middle;\n",
       "    }\n",
       "\n",
       "    .dataframe tbody tr th {\n",
       "        vertical-align: top;\n",
       "    }\n",
       "\n",
       "    .dataframe thead th {\n",
       "        text-align: right;\n",
       "    }\n",
       "</style>\n",
       "<table border=\"1\" class=\"dataframe\">\n",
       "  <thead>\n",
       "    <tr style=\"text-align: right;\">\n",
       "      <th></th>\n",
       "      <th>purchase-date</th>\n",
       "      <th>asin</th>\n",
       "      <th>ship-state</th>\n",
       "      <th>item-price</th>\n",
       "    </tr>\n",
       "  </thead>\n",
       "  <tbody>\n",
       "    <tr>\n",
       "      <th>0</th>\n",
       "      <td>2019-02-02 06:02:27</td>\n",
       "      <td>B0B1DYTPXB</td>\n",
       "      <td>RAJASTHAN</td>\n",
       "      <td>449.0</td>\n",
       "    </tr>\n",
       "    <tr>\n",
       "      <th>1</th>\n",
       "      <td>2019-02-03 06:02:27</td>\n",
       "      <td>B09JSTF9LS</td>\n",
       "      <td>ANDHRA PRADESH</td>\n",
       "      <td>360.0</td>\n",
       "    </tr>\n",
       "    <tr>\n",
       "      <th>2</th>\n",
       "      <td>2019-02-04 06:02:27</td>\n",
       "      <td>B0B1DYTPXB</td>\n",
       "      <td>RAJASTHAN</td>\n",
       "      <td>NaN</td>\n",
       "    </tr>\n",
       "    <tr>\n",
       "      <th>3</th>\n",
       "      <td>2019-02-05 06:02:27</td>\n",
       "      <td>B08SJX7YCT</td>\n",
       "      <td>KARNATAKA</td>\n",
       "      <td>456.0</td>\n",
       "    </tr>\n",
       "    <tr>\n",
       "      <th>4</th>\n",
       "      <td>2019-02-06 06:02:27</td>\n",
       "      <td>B09BQJ4JGZ</td>\n",
       "      <td>MAHARASHTRA</td>\n",
       "      <td>199.0</td>\n",
       "    </tr>\n",
       "  </tbody>\n",
       "</table>\n",
       "</div>"
      ],
      "text/plain": [
       "        purchase-date        asin      ship-state  item-price\n",
       "0 2019-02-02 06:02:27  B0B1DYTPXB       RAJASTHAN       449.0\n",
       "1 2019-02-03 06:02:27  B09JSTF9LS  ANDHRA PRADESH       360.0\n",
       "2 2019-02-04 06:02:27  B0B1DYTPXB       RAJASTHAN         NaN\n",
       "3 2019-02-05 06:02:27  B08SJX7YCT       KARNATAKA       456.0\n",
       "4 2019-02-06 06:02:27  B09BQJ4JGZ     MAHARASHTRA       199.0"
      ]
     },
     "execution_count": 3,
     "metadata": {},
     "output_type": "execute_result"
    }
   ],
   "source": [
    "df.head()"
   ]
  },
  {
   "cell_type": "code",
   "execution_count": 5,
   "id": "a32e219f",
   "metadata": {},
   "outputs": [],
   "source": [
    "ist=df['purchase-date'].dt.tz_localize('UTC').dt.tz_convert('Asia/Kolkata').dt.strftime('%Y-%m-%d %H:%M:%S')\n"
   ]
  },
  {
   "cell_type": "code",
   "execution_count": 6,
   "id": "b67d8ae6",
   "metadata": {},
   "outputs": [],
   "source": [
    "df=pd.concat([df,ist],axis=1)"
   ]
  },
  {
   "cell_type": "code",
   "execution_count": 7,
   "id": "d88d9420",
   "metadata": {},
   "outputs": [
    {
     "data": {
      "text/html": [
       "<div>\n",
       "<style scoped>\n",
       "    .dataframe tbody tr th:only-of-type {\n",
       "        vertical-align: middle;\n",
       "    }\n",
       "\n",
       "    .dataframe tbody tr th {\n",
       "        vertical-align: top;\n",
       "    }\n",
       "\n",
       "    .dataframe thead th {\n",
       "        text-align: right;\n",
       "    }\n",
       "</style>\n",
       "<table border=\"1\" class=\"dataframe\">\n",
       "  <thead>\n",
       "    <tr style=\"text-align: right;\">\n",
       "      <th></th>\n",
       "      <th>purchase-date</th>\n",
       "      <th>asin</th>\n",
       "      <th>ship-state</th>\n",
       "      <th>item-price</th>\n",
       "      <th>purchase-date</th>\n",
       "    </tr>\n",
       "  </thead>\n",
       "  <tbody>\n",
       "    <tr>\n",
       "      <th>0</th>\n",
       "      <td>2019-02-02 06:02:27</td>\n",
       "      <td>B0B1DYTPXB</td>\n",
       "      <td>RAJASTHAN</td>\n",
       "      <td>449.0</td>\n",
       "      <td>2019-02-02 11:32:27</td>\n",
       "    </tr>\n",
       "    <tr>\n",
       "      <th>1</th>\n",
       "      <td>2019-02-03 06:02:27</td>\n",
       "      <td>B09JSTF9LS</td>\n",
       "      <td>ANDHRA PRADESH</td>\n",
       "      <td>360.0</td>\n",
       "      <td>2019-02-03 11:32:27</td>\n",
       "    </tr>\n",
       "    <tr>\n",
       "      <th>2</th>\n",
       "      <td>2019-02-04 06:02:27</td>\n",
       "      <td>B0B1DYTPXB</td>\n",
       "      <td>RAJASTHAN</td>\n",
       "      <td>NaN</td>\n",
       "      <td>2019-02-04 11:32:27</td>\n",
       "    </tr>\n",
       "    <tr>\n",
       "      <th>3</th>\n",
       "      <td>2019-02-05 06:02:27</td>\n",
       "      <td>B08SJX7YCT</td>\n",
       "      <td>KARNATAKA</td>\n",
       "      <td>456.0</td>\n",
       "      <td>2019-02-05 11:32:27</td>\n",
       "    </tr>\n",
       "    <tr>\n",
       "      <th>4</th>\n",
       "      <td>2019-02-06 06:02:27</td>\n",
       "      <td>B09BQJ4JGZ</td>\n",
       "      <td>MAHARASHTRA</td>\n",
       "      <td>199.0</td>\n",
       "      <td>2019-02-06 11:32:27</td>\n",
       "    </tr>\n",
       "  </tbody>\n",
       "</table>\n",
       "</div>"
      ],
      "text/plain": [
       "        purchase-date        asin      ship-state  item-price  \\\n",
       "0 2019-02-02 06:02:27  B0B1DYTPXB       RAJASTHAN       449.0   \n",
       "1 2019-02-03 06:02:27  B09JSTF9LS  ANDHRA PRADESH       360.0   \n",
       "2 2019-02-04 06:02:27  B0B1DYTPXB       RAJASTHAN         NaN   \n",
       "3 2019-02-05 06:02:27  B08SJX7YCT       KARNATAKA       456.0   \n",
       "4 2019-02-06 06:02:27  B09BQJ4JGZ     MAHARASHTRA       199.0   \n",
       "\n",
       "         purchase-date  \n",
       "0  2019-02-02 11:32:27  \n",
       "1  2019-02-03 11:32:27  \n",
       "2  2019-02-04 11:32:27  \n",
       "3  2019-02-05 11:32:27  \n",
       "4  2019-02-06 11:32:27  "
      ]
     },
     "execution_count": 7,
     "metadata": {},
     "output_type": "execute_result"
    }
   ],
   "source": [
    "df.head()"
   ]
  },
  {
   "cell_type": "code",
   "execution_count": 8,
   "id": "7f6d2cde",
   "metadata": {},
   "outputs": [],
   "source": [
    "df = df.iloc[: , 1:]"
   ]
  },
  {
   "cell_type": "code",
   "execution_count": 9,
   "id": "afc80f51",
   "metadata": {},
   "outputs": [
    {
     "data": {
      "text/html": [
       "<div>\n",
       "<style scoped>\n",
       "    .dataframe tbody tr th:only-of-type {\n",
       "        vertical-align: middle;\n",
       "    }\n",
       "\n",
       "    .dataframe tbody tr th {\n",
       "        vertical-align: top;\n",
       "    }\n",
       "\n",
       "    .dataframe thead th {\n",
       "        text-align: right;\n",
       "    }\n",
       "</style>\n",
       "<table border=\"1\" class=\"dataframe\">\n",
       "  <thead>\n",
       "    <tr style=\"text-align: right;\">\n",
       "      <th></th>\n",
       "      <th>asin</th>\n",
       "      <th>ship-state</th>\n",
       "      <th>item-price</th>\n",
       "      <th>purchase-date</th>\n",
       "    </tr>\n",
       "  </thead>\n",
       "  <tbody>\n",
       "    <tr>\n",
       "      <th>0</th>\n",
       "      <td>B0B1DYTPXB</td>\n",
       "      <td>RAJASTHAN</td>\n",
       "      <td>449.0</td>\n",
       "      <td>2019-02-02 11:32:27</td>\n",
       "    </tr>\n",
       "    <tr>\n",
       "      <th>1</th>\n",
       "      <td>B09JSTF9LS</td>\n",
       "      <td>ANDHRA PRADESH</td>\n",
       "      <td>360.0</td>\n",
       "      <td>2019-02-03 11:32:27</td>\n",
       "    </tr>\n",
       "    <tr>\n",
       "      <th>2</th>\n",
       "      <td>B0B1DYTPXB</td>\n",
       "      <td>RAJASTHAN</td>\n",
       "      <td>NaN</td>\n",
       "      <td>2019-02-04 11:32:27</td>\n",
       "    </tr>\n",
       "    <tr>\n",
       "      <th>3</th>\n",
       "      <td>B08SJX7YCT</td>\n",
       "      <td>KARNATAKA</td>\n",
       "      <td>456.0</td>\n",
       "      <td>2019-02-05 11:32:27</td>\n",
       "    </tr>\n",
       "    <tr>\n",
       "      <th>4</th>\n",
       "      <td>B09BQJ4JGZ</td>\n",
       "      <td>MAHARASHTRA</td>\n",
       "      <td>199.0</td>\n",
       "      <td>2019-02-06 11:32:27</td>\n",
       "    </tr>\n",
       "  </tbody>\n",
       "</table>\n",
       "</div>"
      ],
      "text/plain": [
       "         asin      ship-state  item-price        purchase-date\n",
       "0  B0B1DYTPXB       RAJASTHAN       449.0  2019-02-02 11:32:27\n",
       "1  B09JSTF9LS  ANDHRA PRADESH       360.0  2019-02-03 11:32:27\n",
       "2  B0B1DYTPXB       RAJASTHAN         NaN  2019-02-04 11:32:27\n",
       "3  B08SJX7YCT       KARNATAKA       456.0  2019-02-05 11:32:27\n",
       "4  B09BQJ4JGZ     MAHARASHTRA       199.0  2019-02-06 11:32:27"
      ]
     },
     "execution_count": 9,
     "metadata": {},
     "output_type": "execute_result"
    }
   ],
   "source": [
    "df.head()"
   ]
  },
  {
   "cell_type": "code",
   "execution_count": 10,
   "id": "72005670",
   "metadata": {},
   "outputs": [],
   "source": [
    "df['Dates'] = pd.to_datetime(df['purchase-date']).dt.date\n",
    "df['Time'] = pd.to_datetime(df['purchase-date']).dt.time"
   ]
  },
  {
   "cell_type": "code",
   "execution_count": 11,
   "id": "d7729cb4",
   "metadata": {},
   "outputs": [
    {
     "data": {
      "text/html": [
       "<div>\n",
       "<style scoped>\n",
       "    .dataframe tbody tr th:only-of-type {\n",
       "        vertical-align: middle;\n",
       "    }\n",
       "\n",
       "    .dataframe tbody tr th {\n",
       "        vertical-align: top;\n",
       "    }\n",
       "\n",
       "    .dataframe thead th {\n",
       "        text-align: right;\n",
       "    }\n",
       "</style>\n",
       "<table border=\"1\" class=\"dataframe\">\n",
       "  <thead>\n",
       "    <tr style=\"text-align: right;\">\n",
       "      <th></th>\n",
       "      <th>asin</th>\n",
       "      <th>ship-state</th>\n",
       "      <th>item-price</th>\n",
       "      <th>purchase-date</th>\n",
       "      <th>Dates</th>\n",
       "      <th>Time</th>\n",
       "    </tr>\n",
       "  </thead>\n",
       "  <tbody>\n",
       "    <tr>\n",
       "      <th>0</th>\n",
       "      <td>B0B1DYTPXB</td>\n",
       "      <td>RAJASTHAN</td>\n",
       "      <td>449.0</td>\n",
       "      <td>2019-02-02 11:32:27</td>\n",
       "      <td>2019-02-02</td>\n",
       "      <td>11:32:27</td>\n",
       "    </tr>\n",
       "    <tr>\n",
       "      <th>1</th>\n",
       "      <td>B09JSTF9LS</td>\n",
       "      <td>ANDHRA PRADESH</td>\n",
       "      <td>360.0</td>\n",
       "      <td>2019-02-03 11:32:27</td>\n",
       "      <td>2019-02-03</td>\n",
       "      <td>11:32:27</td>\n",
       "    </tr>\n",
       "    <tr>\n",
       "      <th>2</th>\n",
       "      <td>B0B1DYTPXB</td>\n",
       "      <td>RAJASTHAN</td>\n",
       "      <td>NaN</td>\n",
       "      <td>2019-02-04 11:32:27</td>\n",
       "      <td>2019-02-04</td>\n",
       "      <td>11:32:27</td>\n",
       "    </tr>\n",
       "    <tr>\n",
       "      <th>3</th>\n",
       "      <td>B08SJX7YCT</td>\n",
       "      <td>KARNATAKA</td>\n",
       "      <td>456.0</td>\n",
       "      <td>2019-02-05 11:32:27</td>\n",
       "      <td>2019-02-05</td>\n",
       "      <td>11:32:27</td>\n",
       "    </tr>\n",
       "    <tr>\n",
       "      <th>4</th>\n",
       "      <td>B09BQJ4JGZ</td>\n",
       "      <td>MAHARASHTRA</td>\n",
       "      <td>199.0</td>\n",
       "      <td>2019-02-06 11:32:27</td>\n",
       "      <td>2019-02-06</td>\n",
       "      <td>11:32:27</td>\n",
       "    </tr>\n",
       "  </tbody>\n",
       "</table>\n",
       "</div>"
      ],
      "text/plain": [
       "         asin      ship-state  item-price        purchase-date       Dates  \\\n",
       "0  B0B1DYTPXB       RAJASTHAN       449.0  2019-02-02 11:32:27  2019-02-02   \n",
       "1  B09JSTF9LS  ANDHRA PRADESH       360.0  2019-02-03 11:32:27  2019-02-03   \n",
       "2  B0B1DYTPXB       RAJASTHAN         NaN  2019-02-04 11:32:27  2019-02-04   \n",
       "3  B08SJX7YCT       KARNATAKA       456.0  2019-02-05 11:32:27  2019-02-05   \n",
       "4  B09BQJ4JGZ     MAHARASHTRA       199.0  2019-02-06 11:32:27  2019-02-06   \n",
       "\n",
       "       Time  \n",
       "0  11:32:27  \n",
       "1  11:32:27  \n",
       "2  11:32:27  \n",
       "3  11:32:27  \n",
       "4  11:32:27  "
      ]
     },
     "execution_count": 11,
     "metadata": {},
     "output_type": "execute_result"
    }
   ],
   "source": [
    "df.head()"
   ]
  },
  {
   "cell_type": "code",
   "execution_count": 12,
   "id": "c46c7128",
   "metadata": {},
   "outputs": [],
   "source": [
    "df=df.drop([\"purchase-date\"],axis=1)"
   ]
  },
  {
   "cell_type": "code",
   "execution_count": 13,
   "id": "f2cda840",
   "metadata": {},
   "outputs": [
    {
     "data": {
      "text/html": [
       "<div>\n",
       "<style scoped>\n",
       "    .dataframe tbody tr th:only-of-type {\n",
       "        vertical-align: middle;\n",
       "    }\n",
       "\n",
       "    .dataframe tbody tr th {\n",
       "        vertical-align: top;\n",
       "    }\n",
       "\n",
       "    .dataframe thead th {\n",
       "        text-align: right;\n",
       "    }\n",
       "</style>\n",
       "<table border=\"1\" class=\"dataframe\">\n",
       "  <thead>\n",
       "    <tr style=\"text-align: right;\">\n",
       "      <th></th>\n",
       "      <th>asin</th>\n",
       "      <th>ship-state</th>\n",
       "      <th>item-price</th>\n",
       "      <th>Dates</th>\n",
       "      <th>Time</th>\n",
       "    </tr>\n",
       "  </thead>\n",
       "  <tbody>\n",
       "    <tr>\n",
       "      <th>0</th>\n",
       "      <td>B0B1DYTPXB</td>\n",
       "      <td>RAJASTHAN</td>\n",
       "      <td>449.0</td>\n",
       "      <td>2019-02-02</td>\n",
       "      <td>11:32:27</td>\n",
       "    </tr>\n",
       "    <tr>\n",
       "      <th>1</th>\n",
       "      <td>B09JSTF9LS</td>\n",
       "      <td>ANDHRA PRADESH</td>\n",
       "      <td>360.0</td>\n",
       "      <td>2019-02-03</td>\n",
       "      <td>11:32:27</td>\n",
       "    </tr>\n",
       "    <tr>\n",
       "      <th>2</th>\n",
       "      <td>B0B1DYTPXB</td>\n",
       "      <td>RAJASTHAN</td>\n",
       "      <td>NaN</td>\n",
       "      <td>2019-02-04</td>\n",
       "      <td>11:32:27</td>\n",
       "    </tr>\n",
       "    <tr>\n",
       "      <th>3</th>\n",
       "      <td>B08SJX7YCT</td>\n",
       "      <td>KARNATAKA</td>\n",
       "      <td>456.0</td>\n",
       "      <td>2019-02-05</td>\n",
       "      <td>11:32:27</td>\n",
       "    </tr>\n",
       "    <tr>\n",
       "      <th>4</th>\n",
       "      <td>B09BQJ4JGZ</td>\n",
       "      <td>MAHARASHTRA</td>\n",
       "      <td>199.0</td>\n",
       "      <td>2019-02-06</td>\n",
       "      <td>11:32:27</td>\n",
       "    </tr>\n",
       "  </tbody>\n",
       "</table>\n",
       "</div>"
      ],
      "text/plain": [
       "         asin      ship-state  item-price       Dates      Time\n",
       "0  B0B1DYTPXB       RAJASTHAN       449.0  2019-02-02  11:32:27\n",
       "1  B09JSTF9LS  ANDHRA PRADESH       360.0  2019-02-03  11:32:27\n",
       "2  B0B1DYTPXB       RAJASTHAN         NaN  2019-02-04  11:32:27\n",
       "3  B08SJX7YCT       KARNATAKA       456.0  2019-02-05  11:32:27\n",
       "4  B09BQJ4JGZ     MAHARASHTRA       199.0  2019-02-06  11:32:27"
      ]
     },
     "execution_count": 13,
     "metadata": {},
     "output_type": "execute_result"
    }
   ],
   "source": [
    "df.head()"
   ]
  },
  {
   "cell_type": "code",
   "execution_count": 14,
   "id": "a9780103",
   "metadata": {},
   "outputs": [
    {
     "data": {
      "text/plain": [
       "11:32:27    1258\n",
       "Name: Time, dtype: int64"
      ]
     },
     "execution_count": 14,
     "metadata": {},
     "output_type": "execute_result"
    }
   ],
   "source": [
    "df['Time'].value_counts()"
   ]
  },
  {
   "cell_type": "code",
   "execution_count": 15,
   "id": "f285d38f",
   "metadata": {},
   "outputs": [
    {
     "data": {
      "text/plain": [
       "(1258, 5)"
      ]
     },
     "execution_count": 15,
     "metadata": {},
     "output_type": "execute_result"
    }
   ],
   "source": [
    "df.shape"
   ]
  },
  {
   "cell_type": "code",
   "execution_count": null,
   "id": "1df4c2bc",
   "metadata": {},
   "outputs": [],
   "source": [
    "## the entire time column lies in 00:00:00 - 16:00:00,hence only bucket 2 is '1' and remaining buckets will be '0'"
   ]
  },
  {
   "cell_type": "code",
   "execution_count": 16,
   "id": "899074f6",
   "metadata": {},
   "outputs": [],
   "source": [
    "df['bucket1']=0\n",
    "df['bucket2']=1\n",
    "df['bucket3']=0\n"
   ]
  },
  {
   "cell_type": "code",
   "execution_count": 17,
   "id": "01cafdb4",
   "metadata": {},
   "outputs": [
    {
     "data": {
      "text/html": [
       "<div>\n",
       "<style scoped>\n",
       "    .dataframe tbody tr th:only-of-type {\n",
       "        vertical-align: middle;\n",
       "    }\n",
       "\n",
       "    .dataframe tbody tr th {\n",
       "        vertical-align: top;\n",
       "    }\n",
       "\n",
       "    .dataframe thead th {\n",
       "        text-align: right;\n",
       "    }\n",
       "</style>\n",
       "<table border=\"1\" class=\"dataframe\">\n",
       "  <thead>\n",
       "    <tr style=\"text-align: right;\">\n",
       "      <th></th>\n",
       "      <th>asin</th>\n",
       "      <th>ship-state</th>\n",
       "      <th>item-price</th>\n",
       "      <th>Dates</th>\n",
       "      <th>Time</th>\n",
       "      <th>bucket1</th>\n",
       "      <th>bucket2</th>\n",
       "      <th>bucket3</th>\n",
       "    </tr>\n",
       "  </thead>\n",
       "  <tbody>\n",
       "    <tr>\n",
       "      <th>0</th>\n",
       "      <td>B0B1DYTPXB</td>\n",
       "      <td>RAJASTHAN</td>\n",
       "      <td>449.0</td>\n",
       "      <td>2019-02-02</td>\n",
       "      <td>11:32:27</td>\n",
       "      <td>0</td>\n",
       "      <td>1</td>\n",
       "      <td>0</td>\n",
       "    </tr>\n",
       "    <tr>\n",
       "      <th>1</th>\n",
       "      <td>B09JSTF9LS</td>\n",
       "      <td>ANDHRA PRADESH</td>\n",
       "      <td>360.0</td>\n",
       "      <td>2019-02-03</td>\n",
       "      <td>11:32:27</td>\n",
       "      <td>0</td>\n",
       "      <td>1</td>\n",
       "      <td>0</td>\n",
       "    </tr>\n",
       "    <tr>\n",
       "      <th>2</th>\n",
       "      <td>B0B1DYTPXB</td>\n",
       "      <td>RAJASTHAN</td>\n",
       "      <td>NaN</td>\n",
       "      <td>2019-02-04</td>\n",
       "      <td>11:32:27</td>\n",
       "      <td>0</td>\n",
       "      <td>1</td>\n",
       "      <td>0</td>\n",
       "    </tr>\n",
       "    <tr>\n",
       "      <th>3</th>\n",
       "      <td>B08SJX7YCT</td>\n",
       "      <td>KARNATAKA</td>\n",
       "      <td>456.0</td>\n",
       "      <td>2019-02-05</td>\n",
       "      <td>11:32:27</td>\n",
       "      <td>0</td>\n",
       "      <td>1</td>\n",
       "      <td>0</td>\n",
       "    </tr>\n",
       "    <tr>\n",
       "      <th>4</th>\n",
       "      <td>B09BQJ4JGZ</td>\n",
       "      <td>MAHARASHTRA</td>\n",
       "      <td>199.0</td>\n",
       "      <td>2019-02-06</td>\n",
       "      <td>11:32:27</td>\n",
       "      <td>0</td>\n",
       "      <td>1</td>\n",
       "      <td>0</td>\n",
       "    </tr>\n",
       "  </tbody>\n",
       "</table>\n",
       "</div>"
      ],
      "text/plain": [
       "         asin      ship-state  item-price       Dates      Time  bucket1  \\\n",
       "0  B0B1DYTPXB       RAJASTHAN       449.0  2019-02-02  11:32:27        0   \n",
       "1  B09JSTF9LS  ANDHRA PRADESH       360.0  2019-02-03  11:32:27        0   \n",
       "2  B0B1DYTPXB       RAJASTHAN         NaN  2019-02-04  11:32:27        0   \n",
       "3  B08SJX7YCT       KARNATAKA       456.0  2019-02-05  11:32:27        0   \n",
       "4  B09BQJ4JGZ     MAHARASHTRA       199.0  2019-02-06  11:32:27        0   \n",
       "\n",
       "   bucket2  bucket3  \n",
       "0        1        0  \n",
       "1        1        0  \n",
       "2        1        0  \n",
       "3        1        0  \n",
       "4        1        0  "
      ]
     },
     "execution_count": 17,
     "metadata": {},
     "output_type": "execute_result"
    }
   ],
   "source": [
    "df.head()"
   ]
  },
  {
   "cell_type": "code",
   "execution_count": 18,
   "id": "0b0006f9",
   "metadata": {},
   "outputs": [
    {
     "data": {
      "text/plain": [
       "B0B1DYTPXB    458\n",
       "B08SJX7YCT    292\n",
       "B09JSTF9LS    259\n",
       "B09BQJ4JGZ    153\n",
       "B099ZNHSJ5     30\n",
       "B0B3DSR9C6     26\n",
       "B09BQLLHHC     14\n",
       "B09BQLPGNM     12\n",
       "B099ZQYB5V      8\n",
       "B09BQGRGS6      3\n",
       "B0B1VKK1ZL      2\n",
       "B09BQL7K6M      1\n",
       "Name: asin, dtype: int64"
      ]
     },
     "execution_count": 18,
     "metadata": {},
     "output_type": "execute_result"
    }
   ],
   "source": [
    "df['asin'].value_counts()"
   ]
  },
  {
   "cell_type": "code",
   "execution_count": 19,
   "id": "2f98fb23",
   "metadata": {},
   "outputs": [
    {
     "data": {
      "text/plain": [
       "KARNATAKA            207\n",
       "UTTAR PRADESH        135\n",
       "DELHI                131\n",
       "MAHARASHTRA          117\n",
       "TAMIL NADU            78\n",
       "TELANGANA             77\n",
       "RAJASTHAN             50\n",
       "KERALA                47\n",
       "UTTARAKHAND           43\n",
       "HARYANA               43\n",
       "WEST BENGAL           38\n",
       "BIHAR                 38\n",
       "GUJARAT               29\n",
       "ANDHRA PRADESH        28\n",
       "MADHYA PRADESH        19\n",
       "PUNJAB                17\n",
       "ODISHA                17\n",
       "GOA                   15\n",
       "ASSAM                 12\n",
       "Karnataka             10\n",
       "NAGALAND               9\n",
       "JHARKHAND              9\n",
       "Maharashtra            8\n",
       "JAMMU & KASHMIR        6\n",
       "Uttar Pradesh          5\n",
       "MANIPUR                5\n",
       "CHHATTISGARH           5\n",
       "CHANDIGARH             5\n",
       "Tamilnadu              4\n",
       "tamil Nadu             4\n",
       "KA                     3\n",
       "ARUNACHAL PRADESH      3\n",
       "SIKKIM                 3\n",
       "HIMACHAL PRADESH       3\n",
       "MIZORAM                3\n",
       "MEGHALAYA              3\n",
       "Punjab                 2\n",
       "Rajasthan              2\n",
       "Mizoram                2\n",
       "Tamil Nadu             2\n",
       "TRIPURA                2\n",
       "NL                     1\n",
       "ap                     1\n",
       "West Bengal            1\n",
       "Bihar                  1\n",
       "Maharastra             1\n",
       "New Delhi              1\n",
       "Kerala                 1\n",
       "mp                     1\n",
       "new delhi              1\n",
       "UP                     1\n",
       "TELANAGANA             1\n",
       "Haryana                1\n",
       "karnataka              1\n",
       "Uttarakhand            1\n",
       "MP                     1\n",
       "AS                     1\n",
       "Name: ship-state, dtype: int64"
      ]
     },
     "execution_count": 19,
     "metadata": {},
     "output_type": "execute_result"
    }
   ],
   "source": [
    "df['ship-state'].value_counts()"
   ]
  },
  {
   "cell_type": "code",
   "execution_count": 24,
   "id": "4be2d743",
   "metadata": {},
   "outputs": [
    {
     "data": {
      "text/plain": [
       "KARNATAKA        207\n",
       "UTTAR PRADESH    135\n",
       "DELHI            131\n",
       "MAHARASHTRA      117\n",
       "TAMIL NADU        78\n",
       "Name: ship-state, dtype: int64"
      ]
     },
     "execution_count": 24,
     "metadata": {},
     "output_type": "execute_result"
    }
   ],
   "source": [
    "df['ship-state'].value_counts()[0:5] ## top 5 states where sales are high"
   ]
  },
  {
   "cell_type": "code",
   "execution_count": 25,
   "id": "ce6b37cc",
   "metadata": {},
   "outputs": [
    {
     "data": {
      "text/plain": [
       "B0B1DYTPXB    458\n",
       "B08SJX7YCT    292\n",
       "B09JSTF9LS    259\n",
       "B09BQJ4JGZ    153\n",
       "B099ZNHSJ5     30\n",
       "Name: asin, dtype: int64"
      ]
     },
     "execution_count": 25,
     "metadata": {},
     "output_type": "execute_result"
    }
   ],
   "source": [
    "df['asin'].value_counts()[0:5]  ## top 5 ASIN with high sales"
   ]
  },
  {
   "cell_type": "code",
   "execution_count": 27,
   "id": "16cba399",
   "metadata": {},
   "outputs": [],
   "source": [
    "from matplotlib import pyplot as plt"
   ]
  },
  {
   "cell_type": "code",
   "execution_count": 31,
   "id": "60d93c1d",
   "metadata": {},
   "outputs": [
    {
     "data": {
      "image/png": "[encoded data removed]",
      "text/plain": [
       "<Figure size 720x360 with 1 Axes>"
      ]
     },
     "metadata": {
      "needs_background": "light"
     },
     "output_type": "display_data"
    }
   ],
   "source": [
    "plt.figure(figsize=(10,5))\n",
    "plt.bar(list(df['ship-state'].value_counts()[0:5].keys()),list(df['ship-state'].value_counts()[0:5]))\n",
    "plt.title('Top 5 states with high sales')\n",
    "plt.xlabel('states')\n",
    "plt.ylabel('no of sales')\n",
    "plt.grid(True)\n",
    "plt.show()"
   ]
  },
  {
   "cell_type": "code",
   "execution_count": 32,
   "id": "4dd2a7af",
   "metadata": {},
   "outputs": [
    {
     "data": {
      "image/png": "[encoded data removed]",
      "text/plain": [
       "<Figure size 720x360 with 1 Axes>"
      ]
     },
     "metadata": {
      "needs_background": "light"
     },
     "output_type": "display_data"
    }
   ],
   "source": [
    "plt.figure(figsize=(10,5))\n",
    "plt.bar(list(df['asin'].value_counts()[0:5].keys()),list(df['asin'].value_counts()[0:5]))\n",
    "plt.title('Top 5 ASin with high sales')\n",
    "plt.xlabel('asin')\n",
    "plt.ylabel('no of sales')\n",
    "plt.grid(True)\n",
    "plt.show()"
   ]
  }
 ],
 "metadata": {
  "kernelspec": {
   "display_name": "Python 3 (ipykernel)",
   "language": "python",
   "name": "python3"
  },
  "language_info": {
   "codemirror_mode": {
    "name": "ipython",
    "version": 3
   },
   "file_extension": ".py",
   "mimetype": "text/x-python",
   "name": "python",
   "nbconvert_exporter": "python",
   "pygments_lexer": "ipython3",
   "version": "3.9.12"
  }
 },
 "nbformat": 4,
 "nbformat_minor": 5
}
